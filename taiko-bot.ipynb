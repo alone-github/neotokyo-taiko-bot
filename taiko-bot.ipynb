{
 "cells": [
  {
   "cell_type": "code",
   "execution_count": 30,
   "metadata": {},
   "outputs": [
    {
     "name": "stdout",
     "output_type": "stream",
     "text": [
      "['216.52.143.231:27015', '216.52.143.114:27018', '216.52.143.114:27021', '88.150.176.83:26300', '198.204.255.67:27016', '75.67.231.242:27023']\n"
     ]
    }
   ],
   "source": [
    "import valve.source.master_server\n",
    "\n",
    "# get list of servers, \"ip:port\"\n",
    "def get_servers(gamedir):\n",
    "    servers = []\n",
    "    with valve.source.master_server.MasterServerQuerier() as msq:\n",
    "        try:\n",
    "            for address in msq.find(gamedir=gamedir):\n",
    "                servers = servers + [str(address[0]) + str(\":\") + str(address[1])]\n",
    "        except:\n",
    "            pass\n",
    "    return(servers)\n",
    "# print(get_servers(\"NeotokyoSource\"))"
   ]
  },
  {
   "cell_type": "code",
   "execution_count": 61,
   "metadata": {},
   "outputs": [
    {
     "data": {
      "text/plain": [
       "{'response_type': 73,\n",
       " 'protocol': 17,\n",
       " 'server_name': 'Datasteal.com #2 <<( Map Playtesting )>>',\n",
       " 'map': 'nt_shibuya_ctg',\n",
       " 'folder': 'NeotokyoSource',\n",
       " 'game': 'Neotokyo',\n",
       " 'app_id': 0,\n",
       " 'player_count': 0,\n",
       " 'max_players': 25,\n",
       " 'bot_count': 1,\n",
       " 'server_type': <ServerType 100 'Dedicated'>,\n",
       " 'platform': <Platform 119 'Windows'>,\n",
       " 'password_protected': 0,\n",
       " 'vac_enabled': 1,\n",
       " 'version': '1.0.0.1'}"
      ]
     },
     "execution_count": 61,
     "metadata": {},
     "output_type": "execute_result"
    }
   ],
   "source": [
    "import valve.source.a2s\n",
    "\n",
    "# get info() of single server\n",
    "def server_status(server):\n",
    "    try:\n",
    "        status = dict(\n",
    "                valve.source.a2s.ServerQuerier((str(server.split(\":\")[0]), int(server.split(\":\")[1]))).info()\n",
    "        )\n",
    "    except:\n",
    "        status = \"Timed out waiting for response\"\n",
    "        \n",
    "    return(status)\n",
    "# print(server_status('88.150.176.83:26300'))"
   ]
  },
  {
   "cell_type": "code",
   "execution_count": 88,
   "metadata": {},
   "outputs": [],
   "source": [
    "servers = get_servers(\"NeotokyoSource\")\n",
    "\n",
    "status = {}\n",
    "\n",
    "for server in servers:\n",
    "    status[server] = server_status(server)\n",
    "    \n",
    "# keeps only relevant var, drops timed out servers\n",
    "status = {k:{l:m for l,m in v.items() if l in \n",
    "    ['server_name', 'map', 'player_count', 'max_players', 'password_protected']} for k,v in status.items() \n",
    " if v != 'Timed out waiting for response'}\n",
    "\n",
    "# sorts by player count\n",
    "status = dict(sorted(status.items(), key=lambda x: x[1]['player_count'], reverse = True))"
   ]
  },
  {
   "cell_type": "code",
   "execution_count": 18,
   "metadata": {},
   "outputs": [
    {
     "data": {
      "text/plain": [
       "{'216.52.143.231:27015': {'response_type': 73,\n",
       "  'protocol': 17,\n",
       "  'server_name': 'Neotokyo!',\n",
       "  'map': 'nt_dawn_ctg',\n",
       "  'folder': 'neotokyosource',\n",
       "  'game': 'Neotokyo',\n",
       "  'app_id': 0,\n",
       "  'player_count': 0,\n",
       "  'max_players': 32,\n",
       "  'bot_count': 0,\n",
       "  'server_type': <ServerType 100 'Dedicated'>,\n",
       "  'platform': <Platform 119 'Windows'>,\n",
       "  'password_protected': 1,\n",
       "  'vac_enabled': 1,\n",
       "  'version': '1.0.0.1'},\n",
       " '216.52.143.114:27018': {'response_type': 73,\n",
       "  'protocol': 17,\n",
       "  'server_name': 'Datasteal.com <<( HLstatsX | All Plugins )>>',\n",
       "  'map': 'nt_disengage_ctg',\n",
       "  'folder': 'NeotokyoSource',\n",
       "  'game': 'Neotokyo',\n",
       "  'app_id': 0,\n",
       "  'player_count': 0,\n",
       "  'max_players': 25,\n",
       "  'bot_count': 1,\n",
       "  'server_type': <ServerType 100 'Dedicated'>,\n",
       "  'platform': <Platform 119 'Windows'>,\n",
       "  'password_protected': 0,\n",
       "  'vac_enabled': 1,\n",
       "  'version': '1.0.0.1'},\n",
       " '216.52.143.114:27021': {'response_type': 73,\n",
       "  'protocol': 17,\n",
       "  'server_name': 'Datasteal.com #2 <<( Map Playtesting )>>',\n",
       "  'map': 'nt_shibuya_ctg',\n",
       "  'folder': 'NeotokyoSource',\n",
       "  'game': 'Neotokyo',\n",
       "  'app_id': 0,\n",
       "  'player_count': 0,\n",
       "  'max_players': 25,\n",
       "  'bot_count': 1,\n",
       "  'server_type': <ServerType 100 'Dedicated'>,\n",
       "  'platform': <Platform 119 'Windows'>,\n",
       "  'password_protected': 0,\n",
       "  'vac_enabled': 1,\n",
       "  'version': '1.0.0.1'},\n",
       " '88.150.176.83:26300': {'response_type': 73,\n",
       "  'protocol': 17,\n",
       "  'server_name': 'Renraku',\n",
       "  'map': 'nt_isolation_ctg',\n",
       "  'folder': 'NeotokyoSource',\n",
       "  'game': 'Neotokyo',\n",
       "  'app_id': 0,\n",
       "  'player_count': 0,\n",
       "  'max_players': 31,\n",
       "  'bot_count': 0,\n",
       "  'server_type': <ServerType 100 'Dedicated'>,\n",
       "  'platform': <Platform 119 'Windows'>,\n",
       "  'password_protected': 0,\n",
       "  'vac_enabled': 1,\n",
       "  'version': '1.0.0.1'}}"
      ]
     },
     "execution_count": 18,
     "metadata": {},
     "output_type": "execute_result"
    }
   ],
   "source": [
    "import valve.source.a2s\n",
    "import valve.source.master_server\n",
    "\n",
    "status = {}\n",
    "\n",
    "with valve.source.master_server.MasterServerQuerier() as msq:\n",
    "    try:\n",
    "        for address in msq.find(gamedir=\"NeotokyoSource\"):\n",
    "            with valve.source.a2s.ServerQuerier(address) as server:\n",
    "                info = server.info()\n",
    "                players = server.players()\n",
    "\n",
    "                status[str(address[0]) + str(\":\") + str(address[1])] = dict(info)\n",
    "    except valve.source.NoResponseError:\n",
    "        pass\n"
   ]
  },
  {
   "cell_type": "code",
   "execution_count": 73,
   "metadata": {},
   "outputs": [
    {
     "data": {
      "text/plain": [
       "{'216.52.143.231:27015': {'server_name': 'Neotokyo!',\n",
       "  'map': 'nt_dawn_ctg',\n",
       "  'player_count': 0,\n",
       "  'max_players': 32,\n",
       "  'password_protected': 1},\n",
       " '216.52.143.114:27018': {'server_name': 'Datasteal.com <<( HLstatsX | All Plugins )>>',\n",
       "  'map': 'nt_disengage_ctg',\n",
       "  'player_count': 0,\n",
       "  'max_players': 25,\n",
       "  'password_protected': 0},\n",
       " '216.52.143.114:27021': {'server_name': 'Datasteal.com #2 <<( Map Playtesting )>>',\n",
       "  'map': 'nt_shibuya_ctg',\n",
       "  'player_count': 0,\n",
       "  'max_players': 25,\n",
       "  'password_protected': 0},\n",
       " '88.150.176.83:26300': {'server_name': 'Renraku',\n",
       "  'map': 'nt_isolation_ctg',\n",
       "  'player_count': 0,\n",
       "  'max_players': 31,\n",
       "  'password_protected': 0},\n",
       " '198.204.255.67:27016': {'server_name': 'TheFeckless Dreaming of Tokyo Nights | HLStatsX:CE | Sourcemod',\n",
       "  'map': 'nt_pissalley_ctg',\n",
       "  'player_count': 0,\n",
       "  'max_players': 24,\n",
       "  'password_protected': 0}}"
      ]
     },
     "execution_count": 73,
     "metadata": {},
     "output_type": "execute_result"
    }
   ],
   "source": [
    "{k:{l:m for l,m in v.items() if l in \n",
    "    ['server_name', 'map', 'player_count', 'max_players', 'password_protected']} for k,v in status.items() \n",
    " if v != 'Timed out waiting for response'}"
   ]
  },
  {
   "cell_type": "code",
   "execution_count": 19,
   "metadata": {},
   "outputs": [
    {
     "data": {
      "text/plain": [
       "('198.204.255.67', 27016)"
      ]
     },
     "execution_count": 19,
     "metadata": {},
     "output_type": "execute_result"
    }
   ],
   "source": [
    "address"
   ]
  },
  {
   "cell_type": "code",
   "execution_count": 46,
   "metadata": {},
   "outputs": [
    {
     "data": {
      "text/plain": [
       "True"
      ]
     },
     "execution_count": 46,
     "metadata": {},
     "output_type": "execute_result"
    }
   ],
   "source": [
    "{k:v for k,v in status.items() if v['password_protected'] == 1} != {}"
   ]
  },
  {
   "cell_type": "code",
   "execution_count": 57,
   "metadata": {},
   "outputs": [
    {
     "data": {
      "text/plain": [
       "{'fields': [{'inline': False, 'name': 'No one is playing', 'value': ':('}],\n",
       " 'color': 65280,\n",
       " 'type': 'rich',\n",
       " 'description': '```css\\nActive Servers```'}"
      ]
     },
     "execution_count": 57,
     "metadata": {},
     "output_type": "execute_result"
    }
   ],
   "source": [
    "# All Servers Status\n",
    "embed = discord.Embed(# title=\"Title\", \n",
    "                      description=\"```css\\nAll Servers```\", \n",
    "                      color=0xF6B26B)\n",
    "for ii in status.keys():\n",
    "    embed.add_field(name=status[ii]['server_name'], \n",
    "                    value=str(status[ii]['player_count']) + \"/\" + str(status[ii]['max_players']) + \" :: \" + str(status[ii]['map']), \n",
    "                    inline=False)\n",
    "\n",
    "# Active Servers\n",
    "embed = discord.Embed(# title=\"Title\", \n",
    "                      description=\"```css\\nActive Servers```\", \n",
    "                      color=0x00FF00)\n",
    "if {k:v for k,v in status.items() if v['player_count'] > 0} != {}:\n",
    "    for ii in {k:v for k,v in status.items() if v['password_protected'] == 1}.keys():\n",
    "            embed.add_field(name=status[ii]['server_name'], \n",
    "                    value=str(status[ii]['player_count']) + \"/\" + str(status[ii]['max_players']) + \" :: \" + str(status[ii]['map']), \n",
    "                    inline=False)\n",
    "else:\n",
    "    embed.add_field(name=\"No one is playing\",\n",
    "                    value=\":(\",\n",
    "                    inline=False)\n",
    "    \n",
    "            \n",
    "embed.to_dict()"
   ]
  },
  {
   "cell_type": "code",
   "execution_count": 1,
   "metadata": {},
   "outputs": [
    {
     "ename": "RuntimeError",
     "evalue": "Cannot close a running event loop",
     "output_type": "error",
     "traceback": [
      "\u001b[0;31m---------------------------------------------------------------------------\u001b[0m",
      "\u001b[0;31mRuntimeError\u001b[0m                              Traceback (most recent call last)",
      "\u001b[0;32m/usr/local/lib/python3.6/site-packages/discord/client.py\u001b[0m in \u001b[0;36mrun\u001b[0;34m(self, *args, **kwargs)\u001b[0m\n\u001b[1;32m    518\u001b[0m         \u001b[0;32mtry\u001b[0m\u001b[0;34m:\u001b[0m\u001b[0;34m\u001b[0m\u001b[0m\n\u001b[0;32m--> 519\u001b[0;31m             \u001b[0mself\u001b[0m\u001b[0;34m.\u001b[0m\u001b[0mloop\u001b[0m\u001b[0;34m.\u001b[0m\u001b[0mrun_until_complete\u001b[0m\u001b[0;34m(\u001b[0m\u001b[0mself\u001b[0m\u001b[0;34m.\u001b[0m\u001b[0mstart\u001b[0m\u001b[0;34m(\u001b[0m\u001b[0;34m*\u001b[0m\u001b[0margs\u001b[0m\u001b[0;34m,\u001b[0m \u001b[0;34m**\u001b[0m\u001b[0mkwargs\u001b[0m\u001b[0;34m)\u001b[0m\u001b[0;34m)\u001b[0m\u001b[0;34m\u001b[0m\u001b[0m\n\u001b[0m\u001b[1;32m    520\u001b[0m         \u001b[0;32mexcept\u001b[0m \u001b[0mKeyboardInterrupt\u001b[0m\u001b[0;34m:\u001b[0m\u001b[0;34m\u001b[0m\u001b[0m\n",
      "\u001b[0;32m/usr/local/Cellar/python/3.6.5/Frameworks/Python.framework/Versions/3.6/lib/python3.6/asyncio/base_events.py\u001b[0m in \u001b[0;36mrun_until_complete\u001b[0;34m(self, future)\u001b[0m\n\u001b[1;32m    454\u001b[0m         \u001b[0;32mtry\u001b[0m\u001b[0;34m:\u001b[0m\u001b[0;34m\u001b[0m\u001b[0m\n\u001b[0;32m--> 455\u001b[0;31m             \u001b[0mself\u001b[0m\u001b[0;34m.\u001b[0m\u001b[0mrun_forever\u001b[0m\u001b[0;34m(\u001b[0m\u001b[0;34m)\u001b[0m\u001b[0;34m\u001b[0m\u001b[0m\n\u001b[0m\u001b[1;32m    456\u001b[0m         \u001b[0;32mexcept\u001b[0m\u001b[0;34m:\u001b[0m\u001b[0;34m\u001b[0m\u001b[0m\n",
      "\u001b[0;32m/usr/local/Cellar/python/3.6.5/Frameworks/Python.framework/Versions/3.6/lib/python3.6/asyncio/base_events.py\u001b[0m in \u001b[0;36mrun_forever\u001b[0;34m(self)\u001b[0m\n\u001b[1;32m    408\u001b[0m         \u001b[0;32mif\u001b[0m \u001b[0mself\u001b[0m\u001b[0;34m.\u001b[0m\u001b[0mis_running\u001b[0m\u001b[0;34m(\u001b[0m\u001b[0;34m)\u001b[0m\u001b[0;34m:\u001b[0m\u001b[0;34m\u001b[0m\u001b[0m\n\u001b[0;32m--> 409\u001b[0;31m             \u001b[0;32mraise\u001b[0m \u001b[0mRuntimeError\u001b[0m\u001b[0;34m(\u001b[0m\u001b[0;34m'This event loop is already running'\u001b[0m\u001b[0;34m)\u001b[0m\u001b[0;34m\u001b[0m\u001b[0m\n\u001b[0m\u001b[1;32m    410\u001b[0m         \u001b[0;32mif\u001b[0m \u001b[0mevents\u001b[0m\u001b[0;34m.\u001b[0m\u001b[0m_get_running_loop\u001b[0m\u001b[0;34m(\u001b[0m\u001b[0;34m)\u001b[0m \u001b[0;32mis\u001b[0m \u001b[0;32mnot\u001b[0m \u001b[0;32mNone\u001b[0m\u001b[0;34m:\u001b[0m\u001b[0;34m\u001b[0m\u001b[0m\n",
      "\u001b[0;31mRuntimeError\u001b[0m: This event loop is already running",
      "\nDuring handling of the above exception, another exception occurred:\n",
      "\u001b[0;31mRuntimeError\u001b[0m                              Traceback (most recent call last)",
      "\u001b[0;32m<ipython-input-1-a53c2010a54d>\u001b[0m in \u001b[0;36m<module>\u001b[0;34m()\u001b[0m\n\u001b[1;32m     80\u001b[0m     \u001b[0mprint\u001b[0m\u001b[0;34m(\u001b[0m\u001b[0;34m'------'\u001b[0m\u001b[0;34m)\u001b[0m\u001b[0;34m\u001b[0m\u001b[0m\n\u001b[1;32m     81\u001b[0m \u001b[0;34m\u001b[0m\u001b[0m\n\u001b[0;32m---> 82\u001b[0;31m \u001b[0mclient\u001b[0m\u001b[0;34m.\u001b[0m\u001b[0mrun\u001b[0m\u001b[0;34m(\u001b[0m\u001b[0;34m\"NDUzMDY4ODM1MzM2MjI0NzY4.DfZjzQ.CIk72dc2MeZWWBhwkRLZq9TxoyA\"\u001b[0m\u001b[0;34m)\u001b[0m\u001b[0;34m\u001b[0m\u001b[0m\n\u001b[0m",
      "\u001b[0;32m/usr/local/lib/python3.6/site-packages/discord/client.py\u001b[0m in \u001b[0;36mrun\u001b[0;34m(self, *args, **kwargs)\u001b[0m\n\u001b[1;32m    532\u001b[0m                 \u001b[0;32mpass\u001b[0m\u001b[0;34m\u001b[0m\u001b[0m\n\u001b[1;32m    533\u001b[0m         \u001b[0;32mfinally\u001b[0m\u001b[0;34m:\u001b[0m\u001b[0;34m\u001b[0m\u001b[0m\n\u001b[0;32m--> 534\u001b[0;31m             \u001b[0mself\u001b[0m\u001b[0;34m.\u001b[0m\u001b[0mloop\u001b[0m\u001b[0;34m.\u001b[0m\u001b[0mclose\u001b[0m\u001b[0;34m(\u001b[0m\u001b[0;34m)\u001b[0m\u001b[0;34m\u001b[0m\u001b[0m\n\u001b[0m\u001b[1;32m    535\u001b[0m \u001b[0;34m\u001b[0m\u001b[0m\n\u001b[1;32m    536\u001b[0m         \u001b[0;31m# properties\u001b[0m\u001b[0;34m\u001b[0m\u001b[0;34m\u001b[0m\u001b[0m\n",
      "\u001b[0;32m/usr/local/Cellar/python/3.6.5/Frameworks/Python.framework/Versions/3.6/lib/python3.6/asyncio/unix_events.py\u001b[0m in \u001b[0;36mclose\u001b[0;34m(self)\u001b[0m\n\u001b[1;32m     61\u001b[0m \u001b[0;34m\u001b[0m\u001b[0m\n\u001b[1;32m     62\u001b[0m     \u001b[0;32mdef\u001b[0m \u001b[0mclose\u001b[0m\u001b[0;34m(\u001b[0m\u001b[0mself\u001b[0m\u001b[0;34m)\u001b[0m\u001b[0;34m:\u001b[0m\u001b[0;34m\u001b[0m\u001b[0m\n\u001b[0;32m---> 63\u001b[0;31m         \u001b[0msuper\u001b[0m\u001b[0;34m(\u001b[0m\u001b[0;34m)\u001b[0m\u001b[0;34m.\u001b[0m\u001b[0mclose\u001b[0m\u001b[0;34m(\u001b[0m\u001b[0;34m)\u001b[0m\u001b[0;34m\u001b[0m\u001b[0m\n\u001b[0m\u001b[1;32m     64\u001b[0m         \u001b[0;32mif\u001b[0m \u001b[0;32mnot\u001b[0m \u001b[0msys\u001b[0m\u001b[0;34m.\u001b[0m\u001b[0mis_finalizing\u001b[0m\u001b[0;34m(\u001b[0m\u001b[0;34m)\u001b[0m\u001b[0;34m:\u001b[0m\u001b[0;34m\u001b[0m\u001b[0m\n\u001b[1;32m     65\u001b[0m             \u001b[0;32mfor\u001b[0m \u001b[0msig\u001b[0m \u001b[0;32min\u001b[0m \u001b[0mlist\u001b[0m\u001b[0;34m(\u001b[0m\u001b[0mself\u001b[0m\u001b[0;34m.\u001b[0m\u001b[0m_signal_handlers\u001b[0m\u001b[0;34m)\u001b[0m\u001b[0;34m:\u001b[0m\u001b[0;34m\u001b[0m\u001b[0m\n",
      "\u001b[0;32m/usr/local/Cellar/python/3.6.5/Frameworks/Python.framework/Versions/3.6/lib/python3.6/asyncio/selector_events.py\u001b[0m in \u001b[0;36mclose\u001b[0;34m(self)\u001b[0m\n\u001b[1;32m    105\u001b[0m     \u001b[0;32mdef\u001b[0m \u001b[0mclose\u001b[0m\u001b[0;34m(\u001b[0m\u001b[0mself\u001b[0m\u001b[0;34m)\u001b[0m\u001b[0;34m:\u001b[0m\u001b[0;34m\u001b[0m\u001b[0m\n\u001b[1;32m    106\u001b[0m         \u001b[0;32mif\u001b[0m \u001b[0mself\u001b[0m\u001b[0;34m.\u001b[0m\u001b[0mis_running\u001b[0m\u001b[0;34m(\u001b[0m\u001b[0;34m)\u001b[0m\u001b[0;34m:\u001b[0m\u001b[0;34m\u001b[0m\u001b[0m\n\u001b[0;32m--> 107\u001b[0;31m             \u001b[0;32mraise\u001b[0m \u001b[0mRuntimeError\u001b[0m\u001b[0;34m(\u001b[0m\u001b[0;34m\"Cannot close a running event loop\"\u001b[0m\u001b[0;34m)\u001b[0m\u001b[0;34m\u001b[0m\u001b[0m\n\u001b[0m\u001b[1;32m    108\u001b[0m         \u001b[0;32mif\u001b[0m \u001b[0mself\u001b[0m\u001b[0;34m.\u001b[0m\u001b[0mis_closed\u001b[0m\u001b[0;34m(\u001b[0m\u001b[0;34m)\u001b[0m\u001b[0;34m:\u001b[0m\u001b[0;34m\u001b[0m\u001b[0m\n\u001b[1;32m    109\u001b[0m             \u001b[0;32mreturn\u001b[0m\u001b[0;34m\u001b[0m\u001b[0m\n",
      "\u001b[0;31mRuntimeError\u001b[0m: Cannot close a running event loop"
     ]
    },
    {
     "name": "stdout",
     "output_type": "stream",
     "text": [
      "Logged in as\n",
      "Taiko\n",
      "453068835336224768\n",
      "------\n"
     ]
    }
   ],
   "source": [
    "import discord\n",
    "import valve.source.a2s\n",
    "import valve.source.master_server\n",
    "\n",
    "client = discord.Client()\n",
    "\n",
    "@client.event\n",
    "async def on_message(message):\n",
    "# outputs status of all nt servers\n",
    "    if message.content.startswith('!all'):\n",
    "\n",
    "# queries something master server \n",
    "# creates dict status, where key is \"server ip:port\"\n",
    "        status = {}\n",
    "        with valve.source.master_server.MasterServerQuerier() as msq:\n",
    "            try:\n",
    "                for address in msq.find(gamedir=\"NeotokyoSource\"):\n",
    "                    with valve.source.a2s.ServerQuerier(address) as server:\n",
    "                        info = server.info()\n",
    "                        players = server.players()\n",
    "                        status[str(address[0]) + str(\":\") + str(address[1])] = dict(info)\n",
    "            except valve.source.NoResponseError:\n",
    "                pass\n",
    "\n",
    "        embed = discord.Embed(description=\"```css\\nAll Servers```\", \n",
    "                      color=0xF6B26B)\n",
    "    \n",
    "        for ii in status.keys():\n",
    "            embed.add_field(name=status[ii]['server_name'], \n",
    "                            value=str(status[ii]['player_count']) + \"/\" + str(status[ii]['max_players']) + \" :: \" + str(status[ii]['map']), \n",
    "                            inline=False)\n",
    "        await client.send_message(message.channel, embed=embed)\n",
    "# outputs on active servers, i.e. with players    \n",
    "    if message.content.startswith('!active'):\n",
    "        \n",
    "        status = {}\n",
    "        \n",
    "        with valve.source.master_server.MasterServerQuerier() as msq:\n",
    "            try:\n",
    "                for address in msq.find(gamedir=\"NeotokyoSource\"):\n",
    "                    with valve.source.a2s.ServerQuerier(address) as server:\n",
    "                        info = server.info()\n",
    "                        players = server.players()\n",
    "                        status[str(address[0]) + str(\":\") + str(address[1])] = dict(info)\n",
    "            except valve.source.NoResponseError:\n",
    "                pass\n",
    "\n",
    "        embed = discord.Embed(description=\"```css\\nActive Servers```\", \n",
    "                              color=0x00FF00)\n",
    "        if {k:v for k,v in status.items() if v['player_count'] > 0} != {}:\n",
    "            for ii in {k:v for k,v in status.items() if v['player_count'] > 0}.keys():\n",
    "                    embed.add_field(name=status[ii]['server_name'], \n",
    "                            value=str(status[ii]['player_count']) + \"/\" + str(status[ii]['max_players']) + \" :: \" + str(status[ii]['map']), \n",
    "                            inline=False)\n",
    "        else:\n",
    "            embed.add_field(name=\"No one is playing\",\n",
    "                            value=\":(\",\n",
    "                            inline=False)\n",
    "            \n",
    "        await client.send_message(message.channel, embed=embed)\n",
    "\n",
    "@client.event\n",
    "async def on_ready():\n",
    "    print('Logged in as')\n",
    "    print(client.user.name)\n",
    "    print(client.user.id)\n",
    "    print('------')\n",
    "\n",
    "client.run(\"TOKEN\")"
   ]
  },
  {
   "cell_type": "code",
   "execution_count": 69,
   "metadata": {},
   "outputs": [
    {
     "name": "stdout",
     "output_type": "stream",
     "text": [
      "<discord.embeds.Embed object at 0x104171f78>\n",
      "{'fields': [{'inline': False, 'name': 'Fiel1', 'value': 'hi'}, {'inline': False, 'name': 'Field2', 'value': 'hi2'}], 'color': 65280, 'type': 'rich', 'description': 'Desc', 'title': 'Tile'}\n"
     ]
    }
   ],
   "source": [
    "embed = discord.Embed(title=\"Tile\", description=\"Desc\", color=0x00ff00)\n",
    "embed.add_field(name=\"Fiel1\", value=\"hi\", inline=False)\n",
    "embed.add_field(name=\"Field2\", value=\"hi2\", inline=False)\n",
    "print(embed)\n",
    "print(embed.to_dict())\n",
    "test = embed.to_dict()\n",
    "embeds = test"
   ]
  },
  {
   "cell_type": "code",
   "execution_count": 82,
   "metadata": {},
   "outputs": [
    {
     "ename": "AttributeError",
     "evalue": "module 'discord' has no attribute 'to_Embed'",
     "output_type": "error",
     "traceback": [
      "\u001b[0;31m---------------------------------------------------------------------------\u001b[0m",
      "\u001b[0;31mAttributeError\u001b[0m                            Traceback (most recent call last)",
      "\u001b[0;32m<ipython-input-82-ad2f31afc60d>\u001b[0m in \u001b[0;36m<module>\u001b[0;34m()\u001b[0m\n\u001b[0;32m----> 1\u001b[0;31m \u001b[0mdiscord\u001b[0m\u001b[0;34m.\u001b[0m\u001b[0mto_Embed\u001b[0m\u001b[0;34m(\u001b[0m\u001b[0mdiscord\u001b[0m\u001b[0;34m.\u001b[0m\u001b[0mEmbed\u001b[0m\u001b[0;34m(\u001b[0m\u001b[0mtitle\u001b[0m\u001b[0;34m=\u001b[0m\u001b[0;34m\"Tile\"\u001b[0m\u001b[0;34m,\u001b[0m \u001b[0mdescription\u001b[0m\u001b[0;34m=\u001b[0m\u001b[0;34m\"Desc\"\u001b[0m\u001b[0;34m,\u001b[0m \u001b[0mcolor\u001b[0m\u001b[0;34m=\u001b[0m\u001b[0;36m0x00ff00\u001b[0m\u001b[0;34m)\u001b[0m\u001b[0;34m.\u001b[0m\u001b[0mto_dict\u001b[0m\u001b[0;34m(\u001b[0m\u001b[0;34m)\u001b[0m\u001b[0;34m)\u001b[0m\u001b[0;34m\u001b[0m\u001b[0m\n\u001b[0m",
      "\u001b[0;31mAttributeError\u001b[0m: module 'discord' has no attribute 'to_Embed'"
     ]
    }
   ],
   "source": [
    "discord.to_Embed(discord.Embed(title=\"Tile\", description=\"Desc\", color=0x00ff00).to_dict())"
   ]
  },
  {
   "cell_type": "code",
   "execution_count": 105,
   "metadata": {},
   "outputs": [
    {
     "ename": "SyntaxError",
     "evalue": "invalid syntax (<ipython-input-105-3aba52361a17>, line 5)",
     "output_type": "error",
     "traceback": [
      "\u001b[0;36m  File \u001b[0;32m\"<ipython-input-105-3aba52361a17>\"\u001b[0;36m, line \u001b[0;32m5\u001b[0m\n\u001b[0;31m    footer=(icon_url=\"https://cdn.discordapp.com/embed/avatars/0.png\",\u001b[0m\n\u001b[0m                    ^\u001b[0m\n\u001b[0;31mSyntaxError\u001b[0m\u001b[0;31m:\u001b[0m invalid syntax\n"
     ]
    }
   ],
   "source": [
    "embed = discord.Embed(title=\"title ~~(did you know you can have markdown here too?)~~\", \n",
    "                      description=\"this supports [named links](https://discordapp.com) on top of the previously shown subset of markdown. ```\\nyes, even code blocks```\", \n",
    "                      color=0x00ff00, \n",
    "                      url=\"https://discordapp.com\", \n",
    "                      footer=(icon_url=\"https://cdn.discordapp.com/embed/avatars/0.png\", \n",
    "                              text=\"footer text\"))"
   ]
  },
  {
   "cell_type": "code",
   "execution_count": 121,
   "metadata": {},
   "outputs": [
    {
     "ename": "NameError",
     "evalue": "name 'message' is not defined",
     "output_type": "error",
     "traceback": [
      "\u001b[0;31m---------------------------------------------------------------------------\u001b[0m",
      "\u001b[0;31mNameError\u001b[0m                                 Traceback (most recent call last)",
      "\u001b[0;32m<ipython-input-121-5f99c462e612>\u001b[0m in \u001b[0;36m<module>\u001b[0;34m()\u001b[0m\n\u001b[0;32m----> 1\u001b[0;31m message.channel.send({embed: {\n\u001b[0m\u001b[1;32m      2\u001b[0m   \u001b[0mcolor\u001b[0m\u001b[0;34m:\u001b[0m \u001b[0;36m3447003\u001b[0m\u001b[0;34m,\u001b[0m\u001b[0;34m\u001b[0m\u001b[0m\n\u001b[1;32m      3\u001b[0m   \u001b[0mdescription\u001b[0m\u001b[0;34m:\u001b[0m \u001b[0;34m\"A very simple Embed!\"\u001b[0m\u001b[0;34m\u001b[0m\u001b[0m\n\u001b[1;32m      4\u001b[0m }})\n",
      "\u001b[0;31mNameError\u001b[0m: name 'message' is not defined"
     ]
    }
   ],
   "source": [
    "message.channel.send({embed: {\n",
    "  color: 3447003,\n",
    "  description: \"A very simple Embed!\"\n",
    "}})"
   ]
  },
  {
   "cell_type": "code",
   "execution_count": 85,
   "metadata": {},
   "outputs": [],
   "source": [
    "t2 = {\n",
    "  \"content\": \"this `supports` __a__ **subset** *of* ~~markdown~~ 😃 ```js\\nfunction foo(bar) {\\n  console.log(bar);\\n}\\n\\nfoo(1);```\",\n",
    "  \"embed\": {\n",
    "    \"title\": \"title ~~(did you know you can have markdown here too?)~~\",\n",
    "    \"description\": \"this supports [named links](https://discordapp.com) on top of the previously shown subset of markdown. ```\\nyes, even code blocks```\",\n",
    "    \"url\": \"https://discordapp.com\",\n",
    "    \"color\": 9626272,\n",
    "    \"timestamp\": \"2018-06-04T10:01:58.009Z\",\n",
    "    \"footer\": {\n",
    "      \"icon_url\": \"https://cdn.discordapp.com/embed/avatars/0.png\",\n",
    "      \"text\": \"footer text\"\n",
    "    },\n",
    "    \"thumbnail\": {\n",
    "      \"url\": \"https://cdn.discordapp.com/embed/avatars/0.png\"\n",
    "    },\n",
    "    \"image\": {\n",
    "      \"url\": \"https://cdn.discordapp.com/embed/avatars/0.png\"\n",
    "    },\n",
    "    \"author\": {\n",
    "      \"name\": \"author name\",\n",
    "      \"url\": \"https://discordapp.com\",\n",
    "      \"icon_url\": \"https://cdn.discordapp.com/embed/avatars/0.png\"\n",
    "    },\n",
    "    \"fields\": [\n",
    "      {\n",
    "        \"name\": \"🤔\",\n",
    "        \"value\": \"some of these properties have certain limits...\"\n",
    "      },\n",
    "      {\n",
    "        \"name\": \"😱\",\n",
    "        \"value\": \"try exceeding some of them!\"\n",
    "      },\n",
    "      {\n",
    "        \"name\": \"🙄\",\n",
    "        \"value\": \"an informative error should show up, and this view will remain as-is until all issues are fixed\"\n",
    "      },\n",
    "      {\n",
    "        \"name\": \"<:thonkang:219069250692841473>\",\n",
    "        \"value\": \"these last two\",\n",
    "        \"inline\": True\n",
    "      },\n",
    "      {\n",
    "        \"name\": \"<:thonkang:219069250692841473>\",\n",
    "        \"value\": \"are inline fields\",\n",
    "        \"inline\": True\n",
    "      }\n",
    "    ]\n",
    "  }\n",
    "}"
   ]
  },
  {
   "cell_type": "code",
   "execution_count": 92,
   "metadata": {},
   "outputs": [
    {
     "ename": "NameError",
     "evalue": "name 'Class' is not defined",
     "output_type": "error",
     "traceback": [
      "\u001b[0;31m---------------------------------------------------------------------------\u001b[0m",
      "\u001b[0;31mNameError\u001b[0m                                 Traceback (most recent call last)",
      "\u001b[0;32m<ipython-input-92-2cb898dddadb>\u001b[0m in \u001b[0;36m<module>\u001b[0;34m()\u001b[0m\n\u001b[0;32m----> 1\u001b[0;31m \u001b[0mClass\u001b[0m\u001b[0;34m(\u001b[0m\u001b[0mt2\u001b[0m\u001b[0;34m)\u001b[0m\u001b[0;34m\u001b[0m\u001b[0m\n\u001b[0m",
      "\u001b[0;31mNameError\u001b[0m: name 'Class' is not defined"
     ]
    }
   ],
   "source": [
    "Class(t2)"
   ]
  },
  {
   "cell_type": "code",
   "execution_count": 10,
   "metadata": {},
   "outputs": [
    {
     "ename": "SyntaxError",
     "evalue": "invalid syntax (<ipython-input-10-fa3f8351af2d>, line 1)",
     "output_type": "error",
     "traceback": [
      "\u001b[0;36m  File \u001b[0;32m\"<ipython-input-10-fa3f8351af2d>\"\u001b[0;36m, line \u001b[0;32m1\u001b[0m\n\u001b[0;31m    await client.send_message(message.channel, msg, { embed = embed })\u001b[0m\n\u001b[0m               ^\u001b[0m\n\u001b[0;31mSyntaxError\u001b[0m\u001b[0;31m:\u001b[0m invalid syntax\n"
     ]
    }
   ],
   "source": [
    "await client.send_message(message.channel, msg, { embed = embed })"
   ]
  },
  {
   "cell_type": "code",
   "execution_count": 23,
   "metadata": {},
   "outputs": [
    {
     "ename": "NameError",
     "evalue": "name 'json' is not defined",
     "output_type": "error",
     "traceback": [
      "\u001b[0;31m---------------------------------------------------------------------------\u001b[0m",
      "\u001b[0;31mNameError\u001b[0m                                 Traceback (most recent call last)",
      "\u001b[0;32m<ipython-input-23-1ceb7ccdd2e7>\u001b[0m in \u001b[0;36m<module>\u001b[0;34m()\u001b[0m\n\u001b[1;32m      1\u001b[0m \u001b[0mem\u001b[0m \u001b[0;34m=\u001b[0m \u001b[0mdiscord\u001b[0m\u001b[0;34m.\u001b[0m\u001b[0mEmbed\u001b[0m\u001b[0;34m(\u001b[0m\u001b[0mtitle\u001b[0m\u001b[0;34m=\u001b[0m\u001b[0;34m'My Embed Title'\u001b[0m\u001b[0;34m,\u001b[0m \u001b[0mdescription\u001b[0m\u001b[0;34m=\u001b[0m\u001b[0;34m'My Embed Content.'\u001b[0m\u001b[0;34m,\u001b[0m \u001b[0mcolour\u001b[0m\u001b[0;34m=\u001b[0m\u001b[0;36m0xDEADBF\u001b[0m\u001b[0;34m)\u001b[0m\u001b[0;34m\u001b[0m\u001b[0m\n\u001b[1;32m      2\u001b[0m \u001b[0mem\u001b[0m\u001b[0;34m.\u001b[0m\u001b[0mset_author\u001b[0m\u001b[0;34m(\u001b[0m\u001b[0mname\u001b[0m\u001b[0;34m=\u001b[0m\u001b[0;34m'Someone'\u001b[0m\u001b[0;34m,\u001b[0m \u001b[0micon_url\u001b[0m\u001b[0;34m=\u001b[0m\u001b[0mclient\u001b[0m\u001b[0;34m.\u001b[0m\u001b[0muser\u001b[0m\u001b[0;34m.\u001b[0m\u001b[0mdefault_avatar_url\u001b[0m\u001b[0;34m)\u001b[0m\u001b[0;34m\u001b[0m\u001b[0m\n\u001b[0;32m----> 3\u001b[0;31m \u001b[0mjson\u001b[0m\u001b[0;34m(\u001b[0m\u001b[0mem\u001b[0m\u001b[0;34m)\u001b[0m\u001b[0;34m\u001b[0m\u001b[0m\n\u001b[0m",
      "\u001b[0;31mNameError\u001b[0m: name 'json' is not defined"
     ]
    }
   ],
   "source": [
    "em = discord.Embed(title='My Embed Title', description='My Embed Content.', colour=0xDEADBF)\n",
    "em.set_author(name='Someone', icon_url=client.user.default_avatar_url)\n",
    "json(em)"
   ]
  },
  {
   "cell_type": "code",
   "execution_count": 28,
   "metadata": {},
   "outputs": [],
   "source": [
    "import json"
   ]
  },
  {
   "cell_type": "code",
   "execution_count": 34,
   "metadata": {},
   "outputs": [
    {
     "data": {
      "text/plain": [
       "discord.embeds.Embed"
      ]
     },
     "execution_count": 34,
     "metadata": {},
     "output_type": "execute_result"
    }
   ],
   "source": [
    "type(em)"
   ]
  },
  {
   "cell_type": "code",
   "execution_count": 42,
   "metadata": {},
   "outputs": [
    {
     "ename": "SyntaxError",
     "evalue": "invalid syntax (<ipython-input-42-3be87c22e2b7>, line 1)",
     "output_type": "error",
     "traceback": [
      "\u001b[0;36m  File \u001b[0;32m\"<ipython-input-42-3be87c22e2b7>\"\u001b[0;36m, line \u001b[0;32m1\u001b[0m\n\u001b[0;31m    Embed(em).\u001b[0m\n\u001b[0m              ^\u001b[0m\n\u001b[0;31mSyntaxError\u001b[0m\u001b[0;31m:\u001b[0m invalid syntax\n"
     ]
    }
   ],
   "source": [
    "Embed(em)."
   ]
  },
  {
   "cell_type": "code",
   "execution_count": 49,
   "metadata": {},
   "outputs": [
    {
     "name": "stdout",
     "output_type": "stream",
     "text": [
      "**Name:** 1\n",
      "**Total members:** 1\n",
      "**Server owner:** 2\n",
      "**Server region:** 3\n",
      "**Created at:** 9\n"
     ]
    }
   ],
   "source": [
    "# server.name = '1'\n",
    "msg = \"**Name:** \" + '1' + \"\\n\"\n",
    "msg += \"**Total members:** \" + '1' + \"\\n\"\n",
    "msg += \"**Server owner:** \" + '2' + \"\\n\"\n",
    "msg += \"**Server region:** \" + '3' + \"\\n\"\n",
    "msg += \"**Created at:** \" + '9'\n",
    "\n",
    "em = discord.Embed(description=msg)\n",
    "\n",
    "print(msg)"
   ]
  },
  {
   "cell_type": "code",
   "execution_count": 51,
   "metadata": {},
   "outputs": [
    {
     "ename": "AttributeError",
     "evalue": "'Embed' object has no attribute 'from_dict'",
     "output_type": "error",
     "traceback": [
      "\u001b[0;31m---------------------------------------------------------------------------\u001b[0m",
      "\u001b[0;31mAttributeError\u001b[0m                            Traceback (most recent call last)",
      "\u001b[0;32m<ipython-input-51-c35724ff0348>\u001b[0m in \u001b[0;36m<module>\u001b[0;34m()\u001b[0m\n\u001b[0;32m----> 1\u001b[0;31m \u001b[0mem\u001b[0m\u001b[0;34m.\u001b[0m\u001b[0mfrom_dict\u001b[0m\u001b[0;34m(\u001b[0m\u001b[0;34m)\u001b[0m\u001b[0;34m\u001b[0m\u001b[0m\n\u001b[0m",
      "\u001b[0;31mAttributeError\u001b[0m: 'Embed' object has no attribute 'from_dict'"
     ]
    }
   ],
   "source": [
    "em.from_dict()"
   ]
  },
  {
   "cell_type": "code",
   "execution_count": null,
   "metadata": {},
   "outputs": [],
   "source": []
  }
 ],
 "metadata": {
  "kernelspec": {
   "display_name": "Python 3",
   "language": "python",
   "name": "python3"
  },
  "language_info": {
   "codemirror_mode": {
    "name": "ipython",
    "version": 3
   },
   "file_extension": ".py",
   "mimetype": "text/x-python",
   "name": "python",
   "nbconvert_exporter": "python",
   "pygments_lexer": "ipython3",
   "version": "3.6.5"
  }
 },
 "nbformat": 4,
 "nbformat_minor": 2
}
